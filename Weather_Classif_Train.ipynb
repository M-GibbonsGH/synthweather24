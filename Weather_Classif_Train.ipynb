{
 "cells": [
  {
   "cell_type": "code",
   "execution_count": 1,
   "id": "e1727431-da58-497d-9323-73062534c2c4",
   "metadata": {},
   "outputs": [],
   "source": [
    "import pandas as pd\n",
    "import matplotlib.pyplot as plt\n",
    "import seaborn as sns\n",
    "import numpy\n",
    "import sklearn"
   ]
  },
  {
   "cell_type": "code",
   "execution_count": 2,
   "id": "3d64f1d7-e613-4c24-ac69-5bc6ba67a3cb",
   "metadata": {},
   "outputs": [],
   "source": [
    "df_featuresonly = pd.read_excel(\"wc_data_ready_featuresonly.xlsx\", engine=\"openpyxl\")\n",
    "df_featurestarget = pd.read_excel(\"wc_data_ready_features_target.xlsx\", engine=\"openpyxl\")"
   ]
  },
  {
   "cell_type": "markdown",
   "id": "76d096ea-32aa-452e-abf8-0866ad3a9fb0",
   "metadata": {},
   "source": [
    "(target classes)  \n",
    "0 is cloudy  \n",
    "1 is rainy  \n",
    "2 is snowy  \n",
    "3 is sunny"
   ]
  },
  {
   "cell_type": "markdown",
   "id": "0c142e73-3031-4b81-aa64-b17a26edc9d8",
   "metadata": {},
   "source": [
    "As decided on 10.1, to make the prediction more meaningful I'll now remove the cloud cover and visibility features, and continue that way.  "
   ]
  },
  {
   "cell_type": "code",
   "execution_count": 3,
   "id": "9facf2ae-772e-465b-b7ae-59bf7dcd1fed",
   "metadata": {},
   "outputs": [],
   "source": [
    "df_featuresonly.drop(\n",
    "    [\"Visibility (km)\", \"Cloud Cover_clear\", \"Cloud Cover_cloudy\", \"Cloud Cover_overcast\", \n",
    "     \"Cloud Cover_partly cloudy\"], axis=1, inplace=True)\n",
    "df_featurestarget.drop(\n",
    "    [\"Visibility (km)\", \"Cloud Cover_clear\", \"Cloud Cover_cloudy\", \"Cloud Cover_overcast\", \n",
    "     \"Cloud Cover_partly cloudy\"], axis=1, inplace=True)"
   ]
  },
  {
   "cell_type": "code",
   "execution_count": 4,
   "id": "7e001f7a-0554-4eac-9b6e-3b6b375e0edb",
   "metadata": {},
   "outputs": [
    {
     "name": "stdout",
     "output_type": "stream",
     "text": [
      "<class 'pandas.core.frame.DataFrame'>\n",
      "RangeIndex: 12318 entries, 0 to 12317\n",
      "Data columns (total 13 columns):\n",
      " #   Column                      Non-Null Count  Dtype  \n",
      "---  ------                      --------------  -----  \n",
      " 0   Temperature (Celsius)       12318 non-null  float64\n",
      " 1   Precipitation (%)           12318 non-null  float64\n",
      " 2   Wind Speed (km/h)           12318 non-null  float64\n",
      " 3   Atmospheric Pressure (hPa)  12318 non-null  float64\n",
      " 4   Humidity (%)                12318 non-null  float64\n",
      " 5   Weather Type                12318 non-null  int64  \n",
      " 6   Season_Autumn               12318 non-null  bool   \n",
      " 7   Season_Spring               12318 non-null  bool   \n",
      " 8   Season_Summer               12318 non-null  bool   \n",
      " 9   Season_Winter               12318 non-null  bool   \n",
      " 10  Location_coastal            12318 non-null  bool   \n",
      " 11  Location_inland             12318 non-null  bool   \n",
      " 12  Location_mountain           12318 non-null  bool   \n",
      "dtypes: bool(7), float64(5), int64(1)\n",
      "memory usage: 661.7 KB\n"
     ]
    }
   ],
   "source": [
    "df_featurestarget.info()"
   ]
  },
  {
   "cell_type": "code",
   "execution_count": 5,
   "id": "9db07c3f-fbc8-414a-8b63-3cf5dd3e3dcf",
   "metadata": {},
   "outputs": [],
   "source": [
    "from sklearn.model_selection import train_test_split\n",
    "X = df_featuresonly\n",
    "y = df_featurestarget[\"Weather Type\"]\n",
    "\n",
    "X_train, X_test, y_train, y_test = train_test_split(X, y, train_size=0.8, random_state=40)\n",
    "\n"
   ]
  },
  {
   "cell_type": "code",
   "execution_count": 6,
   "id": "0d69f71e-5878-4d9d-a9bd-faeacca0fba9",
   "metadata": {},
   "outputs": [],
   "source": [
    "# Multi_class parameter is deprecated. I think the function automatically selects multinomial LogReg when \n",
    "# number of target classes >= 3 (documentation) \n",
    "\n",
    "# Shuffling the data not necessary with lbfgs solver (documentation, so should be no need for random_state parameter\n",
    "\n",
    "from sklearn.linear_model import LogisticRegression\n",
    "model = LogisticRegression(solver='lbfgs')"
   ]
  },
  {
   "cell_type": "code",
   "execution_count": 7,
   "id": "fdcb71b9-9a37-42bd-a6f6-1d9cd56178be",
   "metadata": {},
   "outputs": [
    {
     "name": "stdout",
     "output_type": "stream",
     "text": [
      "{'0': {'precision': 0.7679195804195804, 'recall': 0.7203772037720377, 'f1-score': 0.7433890416754813, 'support': 2439.0}, '1': {'precision': 0.8039545645771982, 'recall': 0.7825552825552825, 'f1-score': 0.793110603859722, 'support': 2442.0}, '2': {'precision': 0.8642384105960265, 'recall': 0.921537857983523, 'f1-score': 0.8919688627302069, 'support': 2549.0}, '3': {'precision': 0.8041278834479968, 'recall': 0.8197194719471947, 'f1-score': 0.8118488253319714, 'support': 2424.0}, 'accuracy': 0.8122589811244165, 'macro avg': {'precision': 0.8100601097602005, 'recall': 0.8110474540645095, 'f1-score': 0.8100793333993453, 'support': 9854.0}, 'weighted avg': {'precision': 0.8106720723998467, 'recall': 0.8122589811244165, 'f1-score': 0.8109856049295653, 'support': 9854.0}}\n"
     ]
    }
   ],
   "source": [
    "from sklearn.model_selection import cross_val_predict\n",
    "from sklearn.metrics import classification_report\n",
    "\n",
    "y_train_pred = cross_val_predict(model, X_train, y_train, cv=5)\n",
    "print(classification_report(y_train, y_train_pred, output_dict=True))\n",
    "\n",
    "# Note: the documentation says, if you specify dict output, you cannot round the values with the rounding parameter "
   ]
  },
  {
   "cell_type": "code",
   "execution_count": 10,
   "id": "deeb96da-b93f-450d-bf7e-d997d8a3be2d",
   "metadata": {},
   "outputs": [
    {
     "name": "stdout",
     "output_type": "stream",
     "text": [
      "{'0': {'precision': 0.7589134125636672, 'recall': 0.7039370078740157, 'f1-score': 0.7303921568627451, 'support': 635.0}, '1': {'precision': 0.8085443037974683, 'recall': 0.797191887675507, 'f1-score': 0.802827965435978, 'support': 641.0}, '2': {'precision': 0.8475894245723172, 'recall': 0.9159663865546218, 'f1-score': 0.8804523424878837, 'support': 595.0}, '3': {'precision': 0.7933333333333333, 'recall': 0.8026981450252951, 'f1-score': 0.7979882648784576, 'support': 593.0}, 'accuracy': 0.8031655844155844, 'macro avg': {'precision': 0.8020951185666966, 'recall': 0.8049483567823599, 'f1-score': 0.8029151824162661, 'support': 2464.0}, 'weighted avg': {'precision': 0.8015216274347814, 'recall': 0.8031655844155844, 'f1-score': 0.8017402314551629, 'support': 2464.0}}\n"
     ]
    }
   ],
   "source": [
    "model.fit(X_train, y_train)\n",
    "y_test_pred = model.predict(X_test)\n",
    "print(classification_report(y_test, y_test_pred, output_dict=True))"
   ]
  },
  {
   "cell_type": "code",
   "execution_count": null,
   "id": "2fd5003c-4c90-4436-aace-4cd03766d6ca",
   "metadata": {},
   "outputs": [],
   "source": []
  }
 ],
 "metadata": {
  "kernelspec": {
   "display_name": "Python 3 (ipykernel)",
   "language": "python",
   "name": "python3"
  },
  "language_info": {
   "codemirror_mode": {
    "name": "ipython",
    "version": 3
   },
   "file_extension": ".py",
   "mimetype": "text/x-python",
   "name": "python",
   "nbconvert_exporter": "python",
   "pygments_lexer": "ipython3",
   "version": "3.11.8"
  }
 },
 "nbformat": 4,
 "nbformat_minor": 5
}
